{
    "cells": [
        {
            "cell_type": "markdown",
            "metadata": {
                "collapsed": true
            },
            "source": "# My Jupyter Notebook on IBM Watson Studio"
        },
        {
            "cell_type": "markdown",
            "metadata": {},
            "source": "__Michael Gentner__\n\nPrincipal Portfolio and PM Expert"
        },
        {
            "cell_type": "markdown",
            "metadata": {},
            "source": "_I am interested in data science because well-analysed data is essential for good management decisions._"
        },
        {
            "cell_type": "markdown",
            "metadata": {},
            "source": "### The following code cell demonstrates a simple arithmetic calculation."
        },
        {
            "cell_type": "code",
            "execution_count": 6,
            "metadata": {},
            "outputs": [
                {
                    "name": "stdout",
                    "output_type": "stream",
                    "text": " 1+ 1= 2\n"
                }
            ],
            "source": "print(\" 1+ 1=\",1+1)"
        },
        {
            "cell_type": "markdown",
            "metadata": {},
            "source": "* Bulleted list item 1\n* Bulleted list item 2\n* Bulleted list item 3\n\n1. Numbered list item 1\n2. Numbered list item 2\n3. Numbered list item 3\n\n|Table|\n|-----|\n|Row 1|\n|Row 2|\n|Row 3|\n"
        },
        {
            "cell_type": "code",
            "execution_count": null,
            "metadata": {},
            "outputs": [],
            "source": ""
        }
    ],
    "metadata": {
        "kernelspec": {
            "display_name": "Python 3.10",
            "language": "python",
            "name": "python3"
        },
        "language_info": {
            "codemirror_mode": {
                "name": "ipython",
                "version": 3
            },
            "file_extension": ".py",
            "mimetype": "text/x-python",
            "name": "python",
            "nbconvert_exporter": "python",
            "pygments_lexer": "ipython3",
            "version": "3.10.9"
        }
    },
    "nbformat": 4,
    "nbformat_minor": 1
}